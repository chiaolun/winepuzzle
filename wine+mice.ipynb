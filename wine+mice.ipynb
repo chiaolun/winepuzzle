{
 "cells": [
  {
   "cell_type": "code",
   "execution_count": 1,
   "metadata": {
    "collapsed": false
   },
   "outputs": [
    {
     "data": {
      "text/plain": [
       "5"
      ]
     },
     "execution_count": 1,
     "metadata": {},
     "output_type": "execute_result"
    }
   ],
   "source": [
    "# We have 10 mice, and thus 2**10 = 1024 labels available to us\n",
    "# Consider if the dead mice are in the pattern \"0000000101\" = 5,\n",
    "# you would have to throw away all the wine in pattern 5 and\n",
    "# also \"0000000001\" = 1 and \"0000000100\" = 4 because\n",
    "\n",
    "1 | 4"
   ]
  },
  {
   "cell_type": "code",
   "execution_count": 2,
   "metadata": {
    "collapsed": false
   },
   "outputs": [
    {
     "data": {
      "text/plain": [
       "[{(0,)},\n",
       " {(0, 1), (1,)},\n",
       " {(0, 2), (2,)},\n",
       " {(0, 3), (1, 2), (1, 3), (2, 3), (3,)},\n",
       " {(0, 4), (4,)}]"
      ]
     },
     "execution_count": 2,
     "metadata": {},
     "output_type": "execute_result"
    }
   ],
   "source": [
    "# Thus, we should go through all pairs of patterns and note what\n",
    "# they \"|\" to\n",
    "tothrow = [{(i,)} for i in range(1024)]\n",
    "for i in range(1,1024):\n",
    "    for j in range(i):\n",
    "        k = i | j\n",
    "        tothrow[k].add((j,i))\n",
    "tothrow[:5]"
   ]
  },
  {
   "cell_type": "code",
   "execution_count": 3,
   "metadata": {
    "collapsed": false
   },
   "outputs": [
    {
     "data": {
      "text/plain": [
       "[0, 1, 1, 1, 1, 1, 1, 1, 1, 1, 1, 1, 1, 1, 1, 1, 1, 1, 1, 1]"
      ]
     },
     "execution_count": 3,
     "metadata": {},
     "output_type": "execute_result"
    }
   ],
   "source": [
    "# For every allocation of bottles to mice labels, the worst possible\n",
    "# loss is computed by summing the number for each label and computing\n",
    "# the max of the resulting list. For example, if I decided to allocate\n",
    "# 1 bottle to each combination from 1 to 1000, the allocation would be\n",
    "\n",
    "alloc = [1 if (0 < i and i <= 1000) else 0 for i in range(1024)]\n",
    "alloc[:20]"
   ]
  },
  {
   "cell_type": "code",
   "execution_count": 4,
   "metadata": {
    "collapsed": false
   },
   "outputs": [
    {
     "data": {
      "text/plain": [
       "[0, 1, 1, 3, 1, 3, 3, 7, 1, 3, 3, 7, 3, 7, 7, 15, 1, 3, 3, 7]"
      ]
     },
     "execution_count": 4,
     "metadata": {},
     "output_type": "execute_result"
    }
   ],
   "source": [
    "# The resulting losses for every possible outcome would be\n",
    "\n",
    "tothrow_flat = [set() for _ in range(1024)]\n",
    "for k, jss in enumerate(tothrow):\n",
    "    for js in jss:\n",
    "        if all([(alloc[j] > 0) for j in js]):\n",
    "            for j in js:\n",
    "                tothrow_flat[k].add(j)\n",
    "            \n",
    "losses = [sum([alloc[j] for j in js]) for js in tothrow_flat]\n",
    "losses[:20]"
   ]
  },
  {
   "cell_type": "code",
   "execution_count": 5,
   "metadata": {
    "collapsed": false
   },
   "outputs": [
    {
     "data": {
      "text/plain": [
       "(978, 1023)"
      ]
     },
     "execution_count": 5,
     "metadata": {},
     "output_type": "execute_result"
    }
   ],
   "source": [
    "# The worst loss occurs when\n",
    "worst = max([(loss0, k) for k, loss0 in enumerate(losses)])\n",
    "worst"
   ]
  },
  {
   "cell_type": "code",
   "execution_count": 6,
   "metadata": {
    "collapsed": false
   },
   "outputs": [
    {
     "data": {
      "text/plain": [
       "978"
      ]
     },
     "execution_count": 6,
     "metadata": {},
     "output_type": "execute_result"
    }
   ],
   "source": [
    "# which is when you lose\n",
    "worst[0]"
   ]
  },
  {
   "cell_type": "code",
   "execution_count": 7,
   "metadata": {
    "collapsed": false
   },
   "outputs": [
    {
     "data": {
      "text/plain": [
       "'1111111111'"
      ]
     },
     "execution_count": 7,
     "metadata": {},
     "output_type": "execute_result"
    }
   ],
   "source": [
    "# bottles of wine when the pattern that comes up is\n",
    "\"{:010b}\".format(worst[1])"
   ]
  },
  {
   "cell_type": "code",
   "execution_count": null,
   "metadata": {
    "collapsed": true
   },
   "outputs": [],
   "source": []
  }
 ],
 "metadata": {
  "kernelspec": {
   "display_name": "Python 2",
   "language": "python",
   "name": "python2"
  },
  "language_info": {
   "codemirror_mode": {
    "name": "ipython",
    "version": 2
   },
   "file_extension": ".py",
   "mimetype": "text/x-python",
   "name": "python",
   "nbconvert_exporter": "python",
   "pygments_lexer": "ipython2",
   "version": "2.7.10"
  }
 },
 "nbformat": 4,
 "nbformat_minor": 0
}
